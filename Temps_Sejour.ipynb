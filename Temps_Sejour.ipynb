{
 "cells": [
  {
   "cell_type": "markdown",
   "id": "77e4d315-86f9-4834-8c29-46f67afa5801",
   "metadata": {},
   "source": [
    "## CALCUL DES TEMPS DE SEJOUR SUR LA BASE DES DEBITS MOYENS HORAIRES PAR TEMPS SEC ##"
   ]
  },
  {
   "cell_type": "markdown",
   "id": "7ea3b191-96b8-4b35-97c6-4c504d22dee7",
   "metadata": {},
   "source": [
    "## Import des bibliothèques ##"
   ]
  },
  {
   "cell_type": "code",
   "execution_count": 1,
   "id": "e8817527-57b1-48a3-b907-823e5eab084b",
   "metadata": {},
   "outputs": [],
   "source": [
    "import math\n",
    "import pandas as pd\n",
    "import numpy as np\n",
    "import matplotlib.pyplot as plt"
   ]
  },
  {
   "cell_type": "markdown",
   "id": "56aed461-fb82-4419-98d8-701bf8478971",
   "metadata": {},
   "source": [
    "## Définition des fonctions ##"
   ]
  },
  {
   "cell_type": "code",
   "execution_count": 2,
   "id": "775e05d4-a88d-4e84-839e-ba6ec79baece",
   "metadata": {},
   "outputs": [],
   "source": [
    "class CalculduTempsdeSejour:\n",
    "    def __init__(self):\n",
    "        self.client_name = input(\"Enter le nom du client: \")\n",
    "        self.study_name = input(\"Enter le nom de l'étude': \")\n",
    "        self.poste_name = input(\"Enter le nom du poste de refoulement: \")\n",
    "        self.poste_location = input(\"Enter la localisation du poste de refoulement: \")\n",
    "        self.diameter_mm = float(input(\"Enter le diamètre intérieur de la conduite de refoulement (en mm): \"))\n",
    "        self.length = float(input(\"Enter le linéaire total de la conduite de refoulement (en m): \"))\n",
    "        self.origine_donnees_debits = input(\"Enter Origine des données de debits: \")\n",
    "        self.seuil_tempssej = float(input(\"Enter la valeur seuil du temps de séjour: \"))\n",
    "        \n",
    "    def volume_conduite(self):\n",
    "        diameter_m = self.diameter_mm / 1000\n",
    "        radius = diameter_m / 2\n",
    "        area = math.pi * radius**2\n",
    "        volume = area * self.length\n",
    "        return volume\n",
    "    \n",
    "    def creer_table_debits(self):\n",
    "        data = {\n",
    "            'Time': ['0h - 1h', '1h - 2h', '2h - 3h', '3h - 4h', '4h - 5h', '5h - 6h',\n",
    "                     '6h - 7h', '7h - 8h', '8h - 9h', '9h - 10h', '10h - 11h', '11h - 12h',\n",
    "                     '12h - 13h', '13h - 14h', '14h - 15h', '15h - 16h', '16h - 17h',\n",
    "                     '17h - 18h', '18h - 19h', '19h - 20h', '20h - 21h', '21h - 22h',\n",
    "                     '22h - 23h', '23h - 24'],\n",
    "            'Semaine m3/s': [''] * 24,\n",
    "            'Weekend m3/s': [''] * 24\n",
    "        }\n",
    "        df = pd.DataFrame(data)\n",
    "\n",
    "        for i in range(24):\n",
    "            semaine_value = input(f\"Entrer le debit Semaine m3/s a {df['Time'][i]}: \")\n",
    "            weekend_value = input(f\"Enter le debit Weekend m3/s a {df['Time'][i]}: \")\n",
    "            df.at[i, 'Semaine m3/s'] = semaine_value\n",
    "            df.at[i, 'Weekend m3/s'] = weekend_value\n",
    "\n",
    "        total_semaine = df['Semaine m3/s'].astype(float).sum()\n",
    "        total_weekend = df['Weekend m3/s'].astype(float).sum()\n",
    "\n",
    "        df.loc[len(df)] = ['Total', total_semaine, total_weekend]\n",
    "\n",
    "        return df\n",
    "\n",
    "    def calcul_cumul_debits(self, df, column_name):\n",
    "        df_cumulative = pd.DataFrame(columns=range(24), index=range(35))\n",
    "\n",
    "        for column in df_cumulative.columns:\n",
    "            for row in df_cumulative.index:\n",
    "                if row < 24:\n",
    "                    if row >= column:\n",
    "                        df_cumulative.at[row, column] = sum(float(df.at[i, column_name]) for i in range(column, min(row + 1, 24)) if df.at[i, column_name])\n",
    "                    else:\n",
    "                        df_cumulative.at[row, column] = ''\n",
    "                else:\n",
    "                    row_index = row - 24\n",
    "                    df_cumulative.at[row, column] = df_cumulative.at[row - 1, column] + float(df.at[row_index % 24, column_name]) if df.at[row_index % 24, column_name] else ''\n",
    "\n",
    "        df_cumulative = df_cumulative.replace('', np.nan)\n",
    "        df_cumulative = df_cumulative.astype(float)\n",
    "\n",
    "        return df_cumulative\n",
    "\n",
    "    def table_temps_sejour(self, df_cumulative, volume):\n",
    "        df_smaller_than_volume = df_cumulative.copy()\n",
    "\n",
    "        for column in df_cumulative.columns:\n",
    "            for row in df_cumulative.index:\n",
    "                if df_cumulative.at[row, column] > volume:\n",
    "                    df_smaller_than_volume.at[row, column] = np.nan\n",
    "\n",
    "        count_row = df_smaller_than_volume.count()\n",
    "        count_row.name = 'Count'\n",
    "        df_smaller_than_volume = pd.concat([df_smaller_than_volume, count_row.to_frame().T], ignore_index=True)\n",
    "\n",
    "        return df_smaller_than_volume  \n",
    "\n",
    "    def table_synthese(self, table_df, temps_sejour_semaine, temps_sejour_weekend):\n",
    "        result_table = table_df.iloc[:-1].copy()\n",
    "        result_table['Temps sejour semaine'] = temps_sejour_semaine.iloc[-1]\n",
    "        result_table['Temps sejour weekend'] = temps_sejour_weekend.iloc[-1]\n",
    "\n",
    "        return result_table\n",
    "\n",
    "    def plot_data(self, result_table, seuil_tempssej, data_type):\n",
    "        if data_type == 'semaine':\n",
    "            time_column = 'Time'\n",
    "            temps_sej_column = 'Temps sejour semaine'\n",
    "            ylabel_tsej = 'Temps sejour semaine'\n",
    "            discharge_column_1 = 'Semaine m3/s'\n",
    "            discharge_column_2 = 'Weekend m3/s'\n",
    "        elif data_type == 'weekend':\n",
    "            time_column = 'Time'\n",
    "            temps_sej_column = 'Temps sejour weekend'\n",
    "            ylabel_tsej = 'Temps sejour weekend'\n",
    "            discharge_column_1 = 'Weekend m3/s'\n",
    "            discharge_column_2 = 'Semaine m3/s'\n",
    "        else:\n",
    "            raise ValueError(\"Invalid data_type. Choose 'semaine' or 'weekend'.\")\n",
    "\n",
    "        result_table[discharge_column_1] = pd.to_numeric(result_table[discharge_column_1], errors='coerce')\n",
    "        result_table[discharge_column_2] = pd.to_numeric(result_table[discharge_column_2], errors='coerce')\n",
    "\n",
    "        fig, ax1 = plt.subplots()\n",
    "\n",
    "        ax1.set_xlabel('Time')\n",
    "        ax1.set_ylabel(ylabel_tsej)\n",
    "        for index, row in result_table.iterrows():\n",
    "            start_value = row[temps_sej_column]\n",
    "            ax1.bar(index, 1, bottom=start_value, color='tab:red')\n",
    "        ax1.set_ylim(0, result_table[temps_sej_column].max() + 2)\n",
    "\n",
    "        ax1.axhline(y=seuil_tempssej, color='gray', linestyle='--', label='Threshold')\n",
    "\n",
    "        ax2 = ax1.twinx()\n",
    "        color = 'tab:blue'\n",
    "        ax2.set_ylabel('Débit (m3/s)', color=color)\n",
    "        ax2.plot(result_table[time_column], result_table[discharge_column_1], color=color)\n",
    "        ax2.plot(result_table[time_column], result_table[discharge_column_2], color='tab:green')\n",
    "        ax2.tick_params(axis='y', labelcolor=color)\n",
    "        ax2.set_ylim(0, max(result_table[discharge_column_1].max(), result_table[discharge_column_2].max()) + 1)\n",
    "\n",
    "        ax1.set_xticks(result_table.index)\n",
    "        ax1.set_xticklabels(result_table[time_column], rotation=45, ha='right')\n",
    "        ax2.set_xticks(result_table.index)\n",
    "        ax2.set_xticklabels(result_table[time_column], rotation=45, ha='right')\n",
    "\n",
    "        fig.tight_layout()\n",
    "        plt.show()\n",
    "\n",
    "    def chasses_par_jour(self, table_df, volume):\n",
    "        total_semaine = table_df.at[table_df.index[-1], 'Semaine m3/s']\n",
    "        chasses_par_jour_semaine = total_semaine / volume\n",
    "\n",
    "        total_weekend = table_df.at[table_df.index[-1], 'Weekend m3/s']\n",
    "        chasses_par_jour_weekend = total_weekend / volume\n",
    "\n",
    "        return chasses_par_jour_semaine, chasses_par_jour_weekend\n",
    "\n",
    "    def creer_extrap_table(self, table_df, seasonal_variation, groundwater_variation):\n",
    "        extrap_table_df = table_df.copy()\n",
    "        extrap_table_df['Time'] = table_df['Time']\n",
    "\n",
    "        min_col1 = table_df.iloc[:, 1].min()\n",
    "        extrap_table_df.iloc[:, 1] = (table_df.iloc[:, 1] - min_col1) * (1 + seasonal_variation / 100) + min_col1 * (1 + groundwater_variation / 100)\n",
    "\n",
    "        min_col2 = table_df.iloc[:, 2].min()\n",
    "        extrap_table_df.iloc[:, 2] = (table_df.iloc[:, 2] - min_col2) * (1 + seasonal_variation / 100) + min_col2 * (1 + groundwater_variation / 100)\n",
    "\n",
    "        return extrap_table_df\n",
    "\n"
   ]
  },
  {
   "cell_type": "markdown",
   "id": "282e6224-c9c9-4b08-aefc-852e41191a1b",
   "metadata": {},
   "source": [
    "## Données à introduire par l'utilisateur ##"
   ]
  },
  {
   "cell_type": "code",
   "execution_count": 3,
   "id": "288f079f-8f78-46fd-9e7e-421843e70c8f",
   "metadata": {},
   "outputs": [
    {
     "name": "stdin",
     "output_type": "stream",
     "text": [
      "Enter le nom du client:  A\n",
      "Enter le nom de l'étude':  B\n",
      "Enter le nom du poste de refoulement:  C\n",
      "Enter la localisation du poste de refoulement:  D\n",
      "Enter le diamètre intérieur de la conduite de refoulement (en mm):  300\n",
      "Enter le linéaire total de la conduite de refoulement (en m):  550\n",
      "Enter Origine des données de debits:  E\n",
      "Enter la valeur seuil du temps de séjour:  3\n"
     ]
    }
   ],
   "source": [
    "calcul_temps_sejour = CalculduTempsdeSejour()"
   ]
  },
  {
   "cell_type": "markdown",
   "id": "e5622a1d-418a-42ef-b5fb-3c6035448386",
   "metadata": {},
   "source": [
    "## Table des débits ##"
   ]
  },
  {
   "cell_type": "code",
   "execution_count": 5,
   "id": "07a7c2a3-d405-4415-955a-fa01afe71353",
   "metadata": {},
   "outputs": [
    {
     "name": "stdin",
     "output_type": "stream",
     "text": [
      "Entrer le debit Semaine m3/s a 0h - 1h:  1\n",
      "Enter le debit Weekend m3/s a 0h - 1h:  2\n",
      "Entrer le debit Semaine m3/s a 1h - 2h:  3\n",
      "Enter le debit Weekend m3/s a 1h - 2h:  4\n",
      "Entrer le debit Semaine m3/s a 2h - 3h:  5\n",
      "Enter le debit Weekend m3/s a 2h - 3h:  6\n",
      "Entrer le debit Semaine m3/s a 3h - 4h:  7\n",
      "Enter le debit Weekend m3/s a 3h - 4h:  8\n",
      "Entrer le debit Semaine m3/s a 4h - 5h:  9\n",
      "Enter le debit Weekend m3/s a 4h - 5h:  1\n",
      "Entrer le debit Semaine m3/s a 5h - 6h:  2\n",
      "Enter le debit Weekend m3/s a 5h - 6h:  3\n",
      "Entrer le debit Semaine m3/s a 6h - 7h:  4\n",
      "Enter le debit Weekend m3/s a 6h - 7h:  5\n",
      "Entrer le debit Semaine m3/s a 7h - 8h:  6\n",
      "Enter le debit Weekend m3/s a 7h - 8h:  7\n",
      "Entrer le debit Semaine m3/s a 8h - 9h:  8\n",
      "Enter le debit Weekend m3/s a 8h - 9h:  9\n",
      "Entrer le debit Semaine m3/s a 9h - 10h:  1\n",
      "Enter le debit Weekend m3/s a 9h - 10h:  2\n",
      "Entrer le debit Semaine m3/s a 10h - 11h:  3\n",
      "Enter le debit Weekend m3/s a 10h - 11h:  4\n",
      "Entrer le debit Semaine m3/s a 11h - 12h:  5\n",
      "Enter le debit Weekend m3/s a 11h - 12h:  6\n",
      "Entrer le debit Semaine m3/s a 12h - 13h:  7\n",
      "Enter le debit Weekend m3/s a 12h - 13h:  8\n",
      "Entrer le debit Semaine m3/s a 13h - 14h:  9\n",
      "Enter le debit Weekend m3/s a 13h - 14h:  1\n",
      "Entrer le debit Semaine m3/s a 14h - 15h:  2\n",
      "Enter le debit Weekend m3/s a 14h - 15h:  3\n",
      "Entrer le debit Semaine m3/s a 15h - 16h:  4\n",
      "Enter le debit Weekend m3/s a 15h - 16h:  5\n",
      "Entrer le debit Semaine m3/s a 16h - 17h:  6\n",
      "Enter le debit Weekend m3/s a 16h - 17h:  7\n",
      "Entrer le debit Semaine m3/s a 17h - 18h:  8\n",
      "Enter le debit Weekend m3/s a 17h - 18h:  9\n",
      "Entrer le debit Semaine m3/s a 18h - 19h:  1\n",
      "Enter le debit Weekend m3/s a 18h - 19h:  2\n",
      "Entrer le debit Semaine m3/s a 19h - 20h:  3\n",
      "Enter le debit Weekend m3/s a 19h - 20h:  4\n",
      "Entrer le debit Semaine m3/s a 20h - 21h:  5\n",
      "Enter le debit Weekend m3/s a 20h - 21h:  6\n",
      "Entrer le debit Semaine m3/s a 21h - 22h:  7\n",
      "Enter le debit Weekend m3/s a 21h - 22h:  8\n",
      "Entrer le debit Semaine m3/s a 22h - 23h:  9\n",
      "Enter le debit Weekend m3/s a 22h - 23h:  1\n",
      "Entrer le debit Semaine m3/s a 23h - 24:  2\n",
      "Enter le debit Weekend m3/s a 23h - 24:  3\n"
     ]
    },
    {
     "name": "stdout",
     "output_type": "stream",
     "text": [
      "\n",
      "Table with filled values and totals:\n",
      "         Time  Semaine m3/s  Weekend m3/s\n",
      "0     0h - 1h           1.0           2.0\n",
      "1     1h - 2h           3.0           4.0\n",
      "2     2h - 3h           5.0           6.0\n",
      "3     3h - 4h           7.0           8.0\n",
      "4     4h - 5h           9.0           1.0\n",
      "5     5h - 6h           2.0           3.0\n",
      "6     6h - 7h           4.0           5.0\n",
      "7     7h - 8h           6.0           7.0\n",
      "8     8h - 9h           8.0           9.0\n",
      "9    9h - 10h           1.0           2.0\n",
      "10  10h - 11h           3.0           4.0\n",
      "11  11h - 12h           5.0           6.0\n",
      "12  12h - 13h           7.0           8.0\n",
      "13  13h - 14h           9.0           1.0\n",
      "14  14h - 15h           2.0           3.0\n",
      "15  15h - 16h           4.0           5.0\n",
      "16  16h - 17h           6.0           7.0\n",
      "17  17h - 18h           8.0           9.0\n",
      "18  18h - 19h           1.0           2.0\n",
      "19  19h - 20h           3.0           4.0\n",
      "20  20h - 21h           5.0           6.0\n",
      "21  21h - 22h           7.0           8.0\n",
      "22  22h - 23h           9.0           1.0\n",
      "23   23h - 24           2.0           3.0\n",
      "24      Total         117.0         114.0\n"
     ]
    }
   ],
   "source": [
    "table_df = calcul_temps_sejour.creer_table_debits()\n",
    "table_df['Semaine m3/s'] = pd.to_numeric(table_df['Semaine m3/s'], errors='coerce')\n",
    "table_df['Weekend m3/s'] = pd.to_numeric(table_df['Weekend m3/s'], errors='coerce')\n",
    "print(\"\\nTable with filled values and totals:\")\n",
    "print(table_df)"
   ]
  },
  {
   "cell_type": "markdown",
   "id": "784d0905-2cab-4a89-8c6a-610f6311d465",
   "metadata": {},
   "source": [
    "## Résultats ##"
   ]
  },
  {
   "cell_type": "markdown",
   "id": "43f201f0-3792-4762-8689-16da28c5287b",
   "metadata": {},
   "source": [
    "### Calcul du volume ###"
   ]
  },
  {
   "cell_type": "code",
   "execution_count": 6,
   "id": "7b695b22-8e37-4f76-bc70-5cdd60af8b99",
   "metadata": {},
   "outputs": [
    {
     "name": "stdout",
     "output_type": "stream",
     "text": [
      "Le volume de la conduite de refoulement est  38.87720908817369\n"
     ]
    }
   ],
   "source": [
    "volume = calcul_temps_sejour.volume_conduite()\n",
    "print(\"Le volume de la conduite de refoulement est \", volume)"
   ]
  },
  {
   "cell_type": "markdown",
   "id": "848f4d5f-93fe-472a-bced-73ecf70f7846",
   "metadata": {},
   "source": [
    "### Calcul des débits cumulés par tranches horaires ###"
   ]
  },
  {
   "cell_type": "code",
   "execution_count": 7,
   "id": "ab9e43d3-2034-4dd1-8df2-151317e03360",
   "metadata": {},
   "outputs": [
    {
     "name": "stdout",
     "output_type": "stream",
     "text": [
      "       0      1      2      3      4      5      6      7      8      9   ...  \\\n",
      "0     1.0    NaN    NaN    NaN    NaN    NaN    NaN    NaN    NaN    NaN  ...   \n",
      "1     4.0    3.0    NaN    NaN    NaN    NaN    NaN    NaN    NaN    NaN  ...   \n",
      "2     9.0    8.0    5.0    NaN    NaN    NaN    NaN    NaN    NaN    NaN  ...   \n",
      "3    16.0   15.0   12.0    7.0    NaN    NaN    NaN    NaN    NaN    NaN  ...   \n",
      "4    25.0   24.0   21.0   16.0    9.0    NaN    NaN    NaN    NaN    NaN  ...   \n",
      "5    27.0   26.0   23.0   18.0   11.0    2.0    NaN    NaN    NaN    NaN  ...   \n",
      "6    31.0   30.0   27.0   22.0   15.0    6.0    4.0    NaN    NaN    NaN  ...   \n",
      "7    37.0   36.0   33.0   28.0   21.0   12.0   10.0    6.0    NaN    NaN  ...   \n",
      "8    45.0   44.0   41.0   36.0   29.0   20.0   18.0   14.0    8.0    NaN  ...   \n",
      "9    46.0   45.0   42.0   37.0   30.0   21.0   19.0   15.0    9.0    1.0  ...   \n",
      "10   49.0   48.0   45.0   40.0   33.0   24.0   22.0   18.0   12.0    4.0  ...   \n",
      "11   54.0   53.0   50.0   45.0   38.0   29.0   27.0   23.0   17.0    9.0  ...   \n",
      "12   61.0   60.0   57.0   52.0   45.0   36.0   34.0   30.0   24.0   16.0  ...   \n",
      "13   70.0   69.0   66.0   61.0   54.0   45.0   43.0   39.0   33.0   25.0  ...   \n",
      "14   72.0   71.0   68.0   63.0   56.0   47.0   45.0   41.0   35.0   27.0  ...   \n",
      "15   76.0   75.0   72.0   67.0   60.0   51.0   49.0   45.0   39.0   31.0  ...   \n",
      "16   82.0   81.0   78.0   73.0   66.0   57.0   55.0   51.0   45.0   37.0  ...   \n",
      "17   90.0   89.0   86.0   81.0   74.0   65.0   63.0   59.0   53.0   45.0  ...   \n",
      "18   91.0   90.0   87.0   82.0   75.0   66.0   64.0   60.0   54.0   46.0  ...   \n",
      "19   94.0   93.0   90.0   85.0   78.0   69.0   67.0   63.0   57.0   49.0  ...   \n",
      "20   99.0   98.0   95.0   90.0   83.0   74.0   72.0   68.0   62.0   54.0  ...   \n",
      "21  106.0  105.0  102.0   97.0   90.0   81.0   79.0   75.0   69.0   61.0  ...   \n",
      "22  115.0  114.0  111.0  106.0   99.0   90.0   88.0   84.0   78.0   70.0  ...   \n",
      "23  117.0  116.0  113.0  108.0  101.0   92.0   90.0   86.0   80.0   72.0  ...   \n",
      "24  118.0  117.0  114.0  109.0  102.0   93.0   91.0   87.0   81.0   73.0  ...   \n",
      "25  121.0  120.0  117.0  112.0  105.0   96.0   94.0   90.0   84.0   76.0  ...   \n",
      "26  126.0  125.0  122.0  117.0  110.0  101.0   99.0   95.0   89.0   81.0  ...   \n",
      "27  133.0  132.0  129.0  124.0  117.0  108.0  106.0  102.0   96.0   88.0  ...   \n",
      "28  142.0  141.0  138.0  133.0  126.0  117.0  115.0  111.0  105.0   97.0  ...   \n",
      "29  144.0  143.0  140.0  135.0  128.0  119.0  117.0  113.0  107.0   99.0  ...   \n",
      "30  148.0  147.0  144.0  139.0  132.0  123.0  121.0  117.0  111.0  103.0  ...   \n",
      "31  154.0  153.0  150.0  145.0  138.0  129.0  127.0  123.0  117.0  109.0  ...   \n",
      "32  162.0  161.0  158.0  153.0  146.0  137.0  135.0  131.0  125.0  117.0  ...   \n",
      "33  163.0  162.0  159.0  154.0  147.0  138.0  136.0  132.0  126.0  118.0  ...   \n",
      "34  166.0  165.0  162.0  157.0  150.0  141.0  139.0  135.0  129.0  121.0  ...   \n",
      "\n",
      "      14    15    16    17    18    19    20    21    22    23  \n",
      "0    NaN   NaN   NaN   NaN   NaN   NaN   NaN   NaN   NaN   NaN  \n",
      "1    NaN   NaN   NaN   NaN   NaN   NaN   NaN   NaN   NaN   NaN  \n",
      "2    NaN   NaN   NaN   NaN   NaN   NaN   NaN   NaN   NaN   NaN  \n",
      "3    NaN   NaN   NaN   NaN   NaN   NaN   NaN   NaN   NaN   NaN  \n",
      "4    NaN   NaN   NaN   NaN   NaN   NaN   NaN   NaN   NaN   NaN  \n",
      "5    NaN   NaN   NaN   NaN   NaN   NaN   NaN   NaN   NaN   NaN  \n",
      "6    NaN   NaN   NaN   NaN   NaN   NaN   NaN   NaN   NaN   NaN  \n",
      "7    NaN   NaN   NaN   NaN   NaN   NaN   NaN   NaN   NaN   NaN  \n",
      "8    NaN   NaN   NaN   NaN   NaN   NaN   NaN   NaN   NaN   NaN  \n",
      "9    NaN   NaN   NaN   NaN   NaN   NaN   NaN   NaN   NaN   NaN  \n",
      "10   NaN   NaN   NaN   NaN   NaN   NaN   NaN   NaN   NaN   NaN  \n",
      "11   NaN   NaN   NaN   NaN   NaN   NaN   NaN   NaN   NaN   NaN  \n",
      "12   NaN   NaN   NaN   NaN   NaN   NaN   NaN   NaN   NaN   NaN  \n",
      "13   NaN   NaN   NaN   NaN   NaN   NaN   NaN   NaN   NaN   NaN  \n",
      "14   2.0   NaN   NaN   NaN   NaN   NaN   NaN   NaN   NaN   NaN  \n",
      "15   6.0   4.0   NaN   NaN   NaN   NaN   NaN   NaN   NaN   NaN  \n",
      "16  12.0  10.0   6.0   NaN   NaN   NaN   NaN   NaN   NaN   NaN  \n",
      "17  20.0  18.0  14.0   8.0   NaN   NaN   NaN   NaN   NaN   NaN  \n",
      "18  21.0  19.0  15.0   9.0   1.0   NaN   NaN   NaN   NaN   NaN  \n",
      "19  24.0  22.0  18.0  12.0   4.0   3.0   NaN   NaN   NaN   NaN  \n",
      "20  29.0  27.0  23.0  17.0   9.0   8.0   5.0   NaN   NaN   NaN  \n",
      "21  36.0  34.0  30.0  24.0  16.0  15.0  12.0   7.0   NaN   NaN  \n",
      "22  45.0  43.0  39.0  33.0  25.0  24.0  21.0  16.0   9.0   NaN  \n",
      "23  47.0  45.0  41.0  35.0  27.0  26.0  23.0  18.0  11.0   2.0  \n",
      "24  48.0  46.0  42.0  36.0  28.0  27.0  24.0  19.0  12.0   3.0  \n",
      "25  51.0  49.0  45.0  39.0  31.0  30.0  27.0  22.0  15.0   6.0  \n",
      "26  56.0  54.0  50.0  44.0  36.0  35.0  32.0  27.0  20.0  11.0  \n",
      "27  63.0  61.0  57.0  51.0  43.0  42.0  39.0  34.0  27.0  18.0  \n",
      "28  72.0  70.0  66.0  60.0  52.0  51.0  48.0  43.0  36.0  27.0  \n",
      "29  74.0  72.0  68.0  62.0  54.0  53.0  50.0  45.0  38.0  29.0  \n",
      "30  78.0  76.0  72.0  66.0  58.0  57.0  54.0  49.0  42.0  33.0  \n",
      "31  84.0  82.0  78.0  72.0  64.0  63.0  60.0  55.0  48.0  39.0  \n",
      "32  92.0  90.0  86.0  80.0  72.0  71.0  68.0  63.0  56.0  47.0  \n",
      "33  93.0  91.0  87.0  81.0  73.0  72.0  69.0  64.0  57.0  48.0  \n",
      "34  96.0  94.0  90.0  84.0  76.0  75.0  72.0  67.0  60.0  51.0  \n",
      "\n",
      "[35 rows x 24 columns]\n",
      "       0      1      2      3      4      5      6      7      8      9   ...  \\\n",
      "0     2.0    NaN    NaN    NaN    NaN    NaN    NaN    NaN    NaN    NaN  ...   \n",
      "1     6.0    4.0    NaN    NaN    NaN    NaN    NaN    NaN    NaN    NaN  ...   \n",
      "2    12.0   10.0    6.0    NaN    NaN    NaN    NaN    NaN    NaN    NaN  ...   \n",
      "3    20.0   18.0   14.0    8.0    NaN    NaN    NaN    NaN    NaN    NaN  ...   \n",
      "4    21.0   19.0   15.0    9.0    1.0    NaN    NaN    NaN    NaN    NaN  ...   \n",
      "5    24.0   22.0   18.0   12.0    4.0    3.0    NaN    NaN    NaN    NaN  ...   \n",
      "6    29.0   27.0   23.0   17.0    9.0    8.0    5.0    NaN    NaN    NaN  ...   \n",
      "7    36.0   34.0   30.0   24.0   16.0   15.0   12.0    7.0    NaN    NaN  ...   \n",
      "8    45.0   43.0   39.0   33.0   25.0   24.0   21.0   16.0    9.0    NaN  ...   \n",
      "9    47.0   45.0   41.0   35.0   27.0   26.0   23.0   18.0   11.0    2.0  ...   \n",
      "10   51.0   49.0   45.0   39.0   31.0   30.0   27.0   22.0   15.0    6.0  ...   \n",
      "11   57.0   55.0   51.0   45.0   37.0   36.0   33.0   28.0   21.0   12.0  ...   \n",
      "12   65.0   63.0   59.0   53.0   45.0   44.0   41.0   36.0   29.0   20.0  ...   \n",
      "13   66.0   64.0   60.0   54.0   46.0   45.0   42.0   37.0   30.0   21.0  ...   \n",
      "14   69.0   67.0   63.0   57.0   49.0   48.0   45.0   40.0   33.0   24.0  ...   \n",
      "15   74.0   72.0   68.0   62.0   54.0   53.0   50.0   45.0   38.0   29.0  ...   \n",
      "16   81.0   79.0   75.0   69.0   61.0   60.0   57.0   52.0   45.0   36.0  ...   \n",
      "17   90.0   88.0   84.0   78.0   70.0   69.0   66.0   61.0   54.0   45.0  ...   \n",
      "18   92.0   90.0   86.0   80.0   72.0   71.0   68.0   63.0   56.0   47.0  ...   \n",
      "19   96.0   94.0   90.0   84.0   76.0   75.0   72.0   67.0   60.0   51.0  ...   \n",
      "20  102.0  100.0   96.0   90.0   82.0   81.0   78.0   73.0   66.0   57.0  ...   \n",
      "21  110.0  108.0  104.0   98.0   90.0   89.0   86.0   81.0   74.0   65.0  ...   \n",
      "22  111.0  109.0  105.0   99.0   91.0   90.0   87.0   82.0   75.0   66.0  ...   \n",
      "23  114.0  112.0  108.0  102.0   94.0   93.0   90.0   85.0   78.0   69.0  ...   \n",
      "24  116.0  114.0  110.0  104.0   96.0   95.0   92.0   87.0   80.0   71.0  ...   \n",
      "25  120.0  118.0  114.0  108.0  100.0   99.0   96.0   91.0   84.0   75.0  ...   \n",
      "26  126.0  124.0  120.0  114.0  106.0  105.0  102.0   97.0   90.0   81.0  ...   \n",
      "27  134.0  132.0  128.0  122.0  114.0  113.0  110.0  105.0   98.0   89.0  ...   \n",
      "28  135.0  133.0  129.0  123.0  115.0  114.0  111.0  106.0   99.0   90.0  ...   \n",
      "29  138.0  136.0  132.0  126.0  118.0  117.0  114.0  109.0  102.0   93.0  ...   \n",
      "30  143.0  141.0  137.0  131.0  123.0  122.0  119.0  114.0  107.0   98.0  ...   \n",
      "31  150.0  148.0  144.0  138.0  130.0  129.0  126.0  121.0  114.0  105.0  ...   \n",
      "32  159.0  157.0  153.0  147.0  139.0  138.0  135.0  130.0  123.0  114.0  ...   \n",
      "33  161.0  159.0  155.0  149.0  141.0  140.0  137.0  132.0  125.0  116.0  ...   \n",
      "34  165.0  163.0  159.0  153.0  145.0  144.0  141.0  136.0  129.0  120.0  ...   \n",
      "\n",
      "      14    15    16    17    18    19    20    21    22    23  \n",
      "0    NaN   NaN   NaN   NaN   NaN   NaN   NaN   NaN   NaN   NaN  \n",
      "1    NaN   NaN   NaN   NaN   NaN   NaN   NaN   NaN   NaN   NaN  \n",
      "2    NaN   NaN   NaN   NaN   NaN   NaN   NaN   NaN   NaN   NaN  \n",
      "3    NaN   NaN   NaN   NaN   NaN   NaN   NaN   NaN   NaN   NaN  \n",
      "4    NaN   NaN   NaN   NaN   NaN   NaN   NaN   NaN   NaN   NaN  \n",
      "5    NaN   NaN   NaN   NaN   NaN   NaN   NaN   NaN   NaN   NaN  \n",
      "6    NaN   NaN   NaN   NaN   NaN   NaN   NaN   NaN   NaN   NaN  \n",
      "7    NaN   NaN   NaN   NaN   NaN   NaN   NaN   NaN   NaN   NaN  \n",
      "8    NaN   NaN   NaN   NaN   NaN   NaN   NaN   NaN   NaN   NaN  \n",
      "9    NaN   NaN   NaN   NaN   NaN   NaN   NaN   NaN   NaN   NaN  \n",
      "10   NaN   NaN   NaN   NaN   NaN   NaN   NaN   NaN   NaN   NaN  \n",
      "11   NaN   NaN   NaN   NaN   NaN   NaN   NaN   NaN   NaN   NaN  \n",
      "12   NaN   NaN   NaN   NaN   NaN   NaN   NaN   NaN   NaN   NaN  \n",
      "13   NaN   NaN   NaN   NaN   NaN   NaN   NaN   NaN   NaN   NaN  \n",
      "14   3.0   NaN   NaN   NaN   NaN   NaN   NaN   NaN   NaN   NaN  \n",
      "15   8.0   5.0   NaN   NaN   NaN   NaN   NaN   NaN   NaN   NaN  \n",
      "16  15.0  12.0   7.0   NaN   NaN   NaN   NaN   NaN   NaN   NaN  \n",
      "17  24.0  21.0  16.0   9.0   NaN   NaN   NaN   NaN   NaN   NaN  \n",
      "18  26.0  23.0  18.0  11.0   2.0   NaN   NaN   NaN   NaN   NaN  \n",
      "19  30.0  27.0  22.0  15.0   6.0   4.0   NaN   NaN   NaN   NaN  \n",
      "20  36.0  33.0  28.0  21.0  12.0  10.0   6.0   NaN   NaN   NaN  \n",
      "21  44.0  41.0  36.0  29.0  20.0  18.0  14.0   8.0   NaN   NaN  \n",
      "22  45.0  42.0  37.0  30.0  21.0  19.0  15.0   9.0   1.0   NaN  \n",
      "23  48.0  45.0  40.0  33.0  24.0  22.0  18.0  12.0   4.0   3.0  \n",
      "24  50.0  47.0  42.0  35.0  26.0  24.0  20.0  14.0   6.0   5.0  \n",
      "25  54.0  51.0  46.0  39.0  30.0  28.0  24.0  18.0  10.0   9.0  \n",
      "26  60.0  57.0  52.0  45.0  36.0  34.0  30.0  24.0  16.0  15.0  \n",
      "27  68.0  65.0  60.0  53.0  44.0  42.0  38.0  32.0  24.0  23.0  \n",
      "28  69.0  66.0  61.0  54.0  45.0  43.0  39.0  33.0  25.0  24.0  \n",
      "29  72.0  69.0  64.0  57.0  48.0  46.0  42.0  36.0  28.0  27.0  \n",
      "30  77.0  74.0  69.0  62.0  53.0  51.0  47.0  41.0  33.0  32.0  \n",
      "31  84.0  81.0  76.0  69.0  60.0  58.0  54.0  48.0  40.0  39.0  \n",
      "32  93.0  90.0  85.0  78.0  69.0  67.0  63.0  57.0  49.0  48.0  \n",
      "33  95.0  92.0  87.0  80.0  71.0  69.0  65.0  59.0  51.0  50.0  \n",
      "34  99.0  96.0  91.0  84.0  75.0  73.0  69.0  63.0  55.0  54.0  \n",
      "\n",
      "[35 rows x 24 columns]\n"
     ]
    }
   ],
   "source": [
    "debit_cumul_semaine = calcul_temps_sejour.calcul_cumul_debits(table_df, 'Semaine m3/s')\n",
    "debit_cumul_weekend = calcul_temps_sejour.calcul_cumul_debits(table_df, 'Weekend m3/s')\n",
    "print(debit_cumul_semaine)\n",
    "print(debit_cumul_weekend)"
   ]
  },
  {
   "cell_type": "markdown",
   "id": "8f005e9e-774f-461a-af94-df5dcb11c553",
   "metadata": {},
   "source": [
    "### Calcul du temps de séjour en fonction des horaires  ###"
   ]
  },
  {
   "cell_type": "code",
   "execution_count": 8,
   "id": "5d43edd5-7c36-4983-beb6-9d2f7429edcd",
   "metadata": {},
   "outputs": [
    {
     "name": "stdout",
     "output_type": "stream",
     "text": [
      "      0     1     2     3     4     5     6     7     8     9   ...    14  \\\n",
      "0    1.0   NaN   NaN   NaN   NaN   NaN   NaN   NaN   NaN   NaN  ...   NaN   \n",
      "1    4.0   3.0   NaN   NaN   NaN   NaN   NaN   NaN   NaN   NaN  ...   NaN   \n",
      "2    9.0   8.0   5.0   NaN   NaN   NaN   NaN   NaN   NaN   NaN  ...   NaN   \n",
      "3   16.0  15.0  12.0   7.0   NaN   NaN   NaN   NaN   NaN   NaN  ...   NaN   \n",
      "4   25.0  24.0  21.0  16.0   9.0   NaN   NaN   NaN   NaN   NaN  ...   NaN   \n",
      "5   27.0  26.0  23.0  18.0  11.0   2.0   NaN   NaN   NaN   NaN  ...   NaN   \n",
      "6   31.0  30.0  27.0  22.0  15.0   6.0   4.0   NaN   NaN   NaN  ...   NaN   \n",
      "7   37.0  36.0  33.0  28.0  21.0  12.0  10.0   6.0   NaN   NaN  ...   NaN   \n",
      "8    NaN   NaN   NaN  36.0  29.0  20.0  18.0  14.0   8.0   NaN  ...   NaN   \n",
      "9    NaN   NaN   NaN  37.0  30.0  21.0  19.0  15.0   9.0   1.0  ...   NaN   \n",
      "10   NaN   NaN   NaN   NaN  33.0  24.0  22.0  18.0  12.0   4.0  ...   NaN   \n",
      "11   NaN   NaN   NaN   NaN  38.0  29.0  27.0  23.0  17.0   9.0  ...   NaN   \n",
      "12   NaN   NaN   NaN   NaN   NaN  36.0  34.0  30.0  24.0  16.0  ...   NaN   \n",
      "13   NaN   NaN   NaN   NaN   NaN   NaN   NaN   NaN  33.0  25.0  ...   NaN   \n",
      "14   NaN   NaN   NaN   NaN   NaN   NaN   NaN   NaN  35.0  27.0  ...   2.0   \n",
      "15   NaN   NaN   NaN   NaN   NaN   NaN   NaN   NaN   NaN  31.0  ...   6.0   \n",
      "16   NaN   NaN   NaN   NaN   NaN   NaN   NaN   NaN   NaN  37.0  ...  12.0   \n",
      "17   NaN   NaN   NaN   NaN   NaN   NaN   NaN   NaN   NaN   NaN  ...  20.0   \n",
      "18   NaN   NaN   NaN   NaN   NaN   NaN   NaN   NaN   NaN   NaN  ...  21.0   \n",
      "19   NaN   NaN   NaN   NaN   NaN   NaN   NaN   NaN   NaN   NaN  ...  24.0   \n",
      "20   NaN   NaN   NaN   NaN   NaN   NaN   NaN   NaN   NaN   NaN  ...  29.0   \n",
      "21   NaN   NaN   NaN   NaN   NaN   NaN   NaN   NaN   NaN   NaN  ...  36.0   \n",
      "22   NaN   NaN   NaN   NaN   NaN   NaN   NaN   NaN   NaN   NaN  ...   NaN   \n",
      "23   NaN   NaN   NaN   NaN   NaN   NaN   NaN   NaN   NaN   NaN  ...   NaN   \n",
      "24   NaN   NaN   NaN   NaN   NaN   NaN   NaN   NaN   NaN   NaN  ...   NaN   \n",
      "25   NaN   NaN   NaN   NaN   NaN   NaN   NaN   NaN   NaN   NaN  ...   NaN   \n",
      "26   NaN   NaN   NaN   NaN   NaN   NaN   NaN   NaN   NaN   NaN  ...   NaN   \n",
      "27   NaN   NaN   NaN   NaN   NaN   NaN   NaN   NaN   NaN   NaN  ...   NaN   \n",
      "28   NaN   NaN   NaN   NaN   NaN   NaN   NaN   NaN   NaN   NaN  ...   NaN   \n",
      "29   NaN   NaN   NaN   NaN   NaN   NaN   NaN   NaN   NaN   NaN  ...   NaN   \n",
      "30   NaN   NaN   NaN   NaN   NaN   NaN   NaN   NaN   NaN   NaN  ...   NaN   \n",
      "31   NaN   NaN   NaN   NaN   NaN   NaN   NaN   NaN   NaN   NaN  ...   NaN   \n",
      "32   NaN   NaN   NaN   NaN   NaN   NaN   NaN   NaN   NaN   NaN  ...   NaN   \n",
      "33   NaN   NaN   NaN   NaN   NaN   NaN   NaN   NaN   NaN   NaN  ...   NaN   \n",
      "34   NaN   NaN   NaN   NaN   NaN   NaN   NaN   NaN   NaN   NaN  ...   NaN   \n",
      "35   8.0   7.0   6.0   7.0   8.0   8.0   7.0   6.0   7.0   8.0  ...   8.0   \n",
      "\n",
      "      15    16    17    18    19    20    21    22    23  \n",
      "0    NaN   NaN   NaN   NaN   NaN   NaN   NaN   NaN   NaN  \n",
      "1    NaN   NaN   NaN   NaN   NaN   NaN   NaN   NaN   NaN  \n",
      "2    NaN   NaN   NaN   NaN   NaN   NaN   NaN   NaN   NaN  \n",
      "3    NaN   NaN   NaN   NaN   NaN   NaN   NaN   NaN   NaN  \n",
      "4    NaN   NaN   NaN   NaN   NaN   NaN   NaN   NaN   NaN  \n",
      "5    NaN   NaN   NaN   NaN   NaN   NaN   NaN   NaN   NaN  \n",
      "6    NaN   NaN   NaN   NaN   NaN   NaN   NaN   NaN   NaN  \n",
      "7    NaN   NaN   NaN   NaN   NaN   NaN   NaN   NaN   NaN  \n",
      "8    NaN   NaN   NaN   NaN   NaN   NaN   NaN   NaN   NaN  \n",
      "9    NaN   NaN   NaN   NaN   NaN   NaN   NaN   NaN   NaN  \n",
      "10   NaN   NaN   NaN   NaN   NaN   NaN   NaN   NaN   NaN  \n",
      "11   NaN   NaN   NaN   NaN   NaN   NaN   NaN   NaN   NaN  \n",
      "12   NaN   NaN   NaN   NaN   NaN   NaN   NaN   NaN   NaN  \n",
      "13   NaN   NaN   NaN   NaN   NaN   NaN   NaN   NaN   NaN  \n",
      "14   NaN   NaN   NaN   NaN   NaN   NaN   NaN   NaN   NaN  \n",
      "15   4.0   NaN   NaN   NaN   NaN   NaN   NaN   NaN   NaN  \n",
      "16  10.0   6.0   NaN   NaN   NaN   NaN   NaN   NaN   NaN  \n",
      "17  18.0  14.0   8.0   NaN   NaN   NaN   NaN   NaN   NaN  \n",
      "18  19.0  15.0   9.0   1.0   NaN   NaN   NaN   NaN   NaN  \n",
      "19  22.0  18.0  12.0   4.0   3.0   NaN   NaN   NaN   NaN  \n",
      "20  27.0  23.0  17.0   9.0   8.0   5.0   NaN   NaN   NaN  \n",
      "21  34.0  30.0  24.0  16.0  15.0  12.0   7.0   NaN   NaN  \n",
      "22   NaN   NaN  33.0  25.0  24.0  21.0  16.0   9.0   NaN  \n",
      "23   NaN   NaN  35.0  27.0  26.0  23.0  18.0  11.0   2.0  \n",
      "24   NaN   NaN  36.0  28.0  27.0  24.0  19.0  12.0   3.0  \n",
      "25   NaN   NaN   NaN  31.0  30.0  27.0  22.0  15.0   6.0  \n",
      "26   NaN   NaN   NaN  36.0  35.0  32.0  27.0  20.0  11.0  \n",
      "27   NaN   NaN   NaN   NaN   NaN   NaN  34.0  27.0  18.0  \n",
      "28   NaN   NaN   NaN   NaN   NaN   NaN   NaN  36.0  27.0  \n",
      "29   NaN   NaN   NaN   NaN   NaN   NaN   NaN  38.0  29.0  \n",
      "30   NaN   NaN   NaN   NaN   NaN   NaN   NaN   NaN  33.0  \n",
      "31   NaN   NaN   NaN   NaN   NaN   NaN   NaN   NaN   NaN  \n",
      "32   NaN   NaN   NaN   NaN   NaN   NaN   NaN   NaN   NaN  \n",
      "33   NaN   NaN   NaN   NaN   NaN   NaN   NaN   NaN   NaN  \n",
      "34   NaN   NaN   NaN   NaN   NaN   NaN   NaN   NaN   NaN  \n",
      "35   7.0   6.0   8.0   9.0   8.0   7.0   7.0   8.0   8.0  \n",
      "\n",
      "[36 rows x 24 columns]\n",
      "      0     1     2     3     4     5     6     7     8     9   ...    14  \\\n",
      "0    2.0   NaN   NaN   NaN   NaN   NaN   NaN   NaN   NaN   NaN  ...   NaN   \n",
      "1    6.0   4.0   NaN   NaN   NaN   NaN   NaN   NaN   NaN   NaN  ...   NaN   \n",
      "2   12.0  10.0   6.0   NaN   NaN   NaN   NaN   NaN   NaN   NaN  ...   NaN   \n",
      "3   20.0  18.0  14.0   8.0   NaN   NaN   NaN   NaN   NaN   NaN  ...   NaN   \n",
      "4   21.0  19.0  15.0   9.0   1.0   NaN   NaN   NaN   NaN   NaN  ...   NaN   \n",
      "5   24.0  22.0  18.0  12.0   4.0   3.0   NaN   NaN   NaN   NaN  ...   NaN   \n",
      "6   29.0  27.0  23.0  17.0   9.0   8.0   5.0   NaN   NaN   NaN  ...   NaN   \n",
      "7   36.0  34.0  30.0  24.0  16.0  15.0  12.0   7.0   NaN   NaN  ...   NaN   \n",
      "8    NaN   NaN   NaN  33.0  25.0  24.0  21.0  16.0   9.0   NaN  ...   NaN   \n",
      "9    NaN   NaN   NaN  35.0  27.0  26.0  23.0  18.0  11.0   2.0  ...   NaN   \n",
      "10   NaN   NaN   NaN   NaN  31.0  30.0  27.0  22.0  15.0   6.0  ...   NaN   \n",
      "11   NaN   NaN   NaN   NaN  37.0  36.0  33.0  28.0  21.0  12.0  ...   NaN   \n",
      "12   NaN   NaN   NaN   NaN   NaN   NaN   NaN  36.0  29.0  20.0  ...   NaN   \n",
      "13   NaN   NaN   NaN   NaN   NaN   NaN   NaN  37.0  30.0  21.0  ...   NaN   \n",
      "14   NaN   NaN   NaN   NaN   NaN   NaN   NaN   NaN  33.0  24.0  ...   3.0   \n",
      "15   NaN   NaN   NaN   NaN   NaN   NaN   NaN   NaN  38.0  29.0  ...   8.0   \n",
      "16   NaN   NaN   NaN   NaN   NaN   NaN   NaN   NaN   NaN  36.0  ...  15.0   \n",
      "17   NaN   NaN   NaN   NaN   NaN   NaN   NaN   NaN   NaN   NaN  ...  24.0   \n",
      "18   NaN   NaN   NaN   NaN   NaN   NaN   NaN   NaN   NaN   NaN  ...  26.0   \n",
      "19   NaN   NaN   NaN   NaN   NaN   NaN   NaN   NaN   NaN   NaN  ...  30.0   \n",
      "20   NaN   NaN   NaN   NaN   NaN   NaN   NaN   NaN   NaN   NaN  ...  36.0   \n",
      "21   NaN   NaN   NaN   NaN   NaN   NaN   NaN   NaN   NaN   NaN  ...   NaN   \n",
      "22   NaN   NaN   NaN   NaN   NaN   NaN   NaN   NaN   NaN   NaN  ...   NaN   \n",
      "23   NaN   NaN   NaN   NaN   NaN   NaN   NaN   NaN   NaN   NaN  ...   NaN   \n",
      "24   NaN   NaN   NaN   NaN   NaN   NaN   NaN   NaN   NaN   NaN  ...   NaN   \n",
      "25   NaN   NaN   NaN   NaN   NaN   NaN   NaN   NaN   NaN   NaN  ...   NaN   \n",
      "26   NaN   NaN   NaN   NaN   NaN   NaN   NaN   NaN   NaN   NaN  ...   NaN   \n",
      "27   NaN   NaN   NaN   NaN   NaN   NaN   NaN   NaN   NaN   NaN  ...   NaN   \n",
      "28   NaN   NaN   NaN   NaN   NaN   NaN   NaN   NaN   NaN   NaN  ...   NaN   \n",
      "29   NaN   NaN   NaN   NaN   NaN   NaN   NaN   NaN   NaN   NaN  ...   NaN   \n",
      "30   NaN   NaN   NaN   NaN   NaN   NaN   NaN   NaN   NaN   NaN  ...   NaN   \n",
      "31   NaN   NaN   NaN   NaN   NaN   NaN   NaN   NaN   NaN   NaN  ...   NaN   \n",
      "32   NaN   NaN   NaN   NaN   NaN   NaN   NaN   NaN   NaN   NaN  ...   NaN   \n",
      "33   NaN   NaN   NaN   NaN   NaN   NaN   NaN   NaN   NaN   NaN  ...   NaN   \n",
      "34   NaN   NaN   NaN   NaN   NaN   NaN   NaN   NaN   NaN   NaN  ...   NaN   \n",
      "35   8.0   7.0   6.0   7.0   8.0   7.0   6.0   7.0   8.0   8.0  ...   7.0   \n",
      "\n",
      "      15    16    17    18    19    20    21    22    23  \n",
      "0    NaN   NaN   NaN   NaN   NaN   NaN   NaN   NaN   NaN  \n",
      "1    NaN   NaN   NaN   NaN   NaN   NaN   NaN   NaN   NaN  \n",
      "2    NaN   NaN   NaN   NaN   NaN   NaN   NaN   NaN   NaN  \n",
      "3    NaN   NaN   NaN   NaN   NaN   NaN   NaN   NaN   NaN  \n",
      "4    NaN   NaN   NaN   NaN   NaN   NaN   NaN   NaN   NaN  \n",
      "5    NaN   NaN   NaN   NaN   NaN   NaN   NaN   NaN   NaN  \n",
      "6    NaN   NaN   NaN   NaN   NaN   NaN   NaN   NaN   NaN  \n",
      "7    NaN   NaN   NaN   NaN   NaN   NaN   NaN   NaN   NaN  \n",
      "8    NaN   NaN   NaN   NaN   NaN   NaN   NaN   NaN   NaN  \n",
      "9    NaN   NaN   NaN   NaN   NaN   NaN   NaN   NaN   NaN  \n",
      "10   NaN   NaN   NaN   NaN   NaN   NaN   NaN   NaN   NaN  \n",
      "11   NaN   NaN   NaN   NaN   NaN   NaN   NaN   NaN   NaN  \n",
      "12   NaN   NaN   NaN   NaN   NaN   NaN   NaN   NaN   NaN  \n",
      "13   NaN   NaN   NaN   NaN   NaN   NaN   NaN   NaN   NaN  \n",
      "14   NaN   NaN   NaN   NaN   NaN   NaN   NaN   NaN   NaN  \n",
      "15   5.0   NaN   NaN   NaN   NaN   NaN   NaN   NaN   NaN  \n",
      "16  12.0   7.0   NaN   NaN   NaN   NaN   NaN   NaN   NaN  \n",
      "17  21.0  16.0   9.0   NaN   NaN   NaN   NaN   NaN   NaN  \n",
      "18  23.0  18.0  11.0   2.0   NaN   NaN   NaN   NaN   NaN  \n",
      "19  27.0  22.0  15.0   6.0   4.0   NaN   NaN   NaN   NaN  \n",
      "20  33.0  28.0  21.0  12.0  10.0   6.0   NaN   NaN   NaN  \n",
      "21   NaN  36.0  29.0  20.0  18.0  14.0   8.0   NaN   NaN  \n",
      "22   NaN  37.0  30.0  21.0  19.0  15.0   9.0   1.0   NaN  \n",
      "23   NaN   NaN  33.0  24.0  22.0  18.0  12.0   4.0   3.0  \n",
      "24   NaN   NaN  35.0  26.0  24.0  20.0  14.0   6.0   5.0  \n",
      "25   NaN   NaN   NaN  30.0  28.0  24.0  18.0  10.0   9.0  \n",
      "26   NaN   NaN   NaN  36.0  34.0  30.0  24.0  16.0  15.0  \n",
      "27   NaN   NaN   NaN   NaN   NaN  38.0  32.0  24.0  23.0  \n",
      "28   NaN   NaN   NaN   NaN   NaN   NaN  33.0  25.0  24.0  \n",
      "29   NaN   NaN   NaN   NaN   NaN   NaN  36.0  28.0  27.0  \n",
      "30   NaN   NaN   NaN   NaN   NaN   NaN   NaN  33.0  32.0  \n",
      "31   NaN   NaN   NaN   NaN   NaN   NaN   NaN   NaN   NaN  \n",
      "32   NaN   NaN   NaN   NaN   NaN   NaN   NaN   NaN   NaN  \n",
      "33   NaN   NaN   NaN   NaN   NaN   NaN   NaN   NaN   NaN  \n",
      "34   NaN   NaN   NaN   NaN   NaN   NaN   NaN   NaN   NaN  \n",
      "35   6.0   7.0   8.0   9.0   8.0   8.0   9.0   9.0   8.0  \n",
      "\n",
      "[36 rows x 24 columns]\n"
     ]
    }
   ],
   "source": [
    "temps_sejour_semaine = calcul_temps_sejour.table_temps_sejour(debit_cumul_semaine, volume)\n",
    "temps_sejour_weekend = calcul_temps_sejour.table_temps_sejour(debit_cumul_weekend, volume)\n",
    "print(temps_sejour_semaine)\n",
    "print(temps_sejour_weekend)"
   ]
  },
  {
   "cell_type": "markdown",
   "id": "aeb5389b-a7d7-40bf-9c4c-4071866378e4",
   "metadata": {},
   "source": [
    "### Tableau de synthèse des temps de séjour ###"
   ]
  },
  {
   "cell_type": "code",
   "execution_count": 9,
   "id": "009cb3bc-4b0d-4d06-9a48-0b508e2d74c3",
   "metadata": {},
   "outputs": [
    {
     "name": "stdout",
     "output_type": "stream",
     "text": [
      "         Time  Semaine m3/s  Weekend m3/s  Temps sejour semaine  \\\n",
      "0     0h - 1h           1.0           2.0                   8.0   \n",
      "1     1h - 2h           3.0           4.0                   7.0   \n",
      "2     2h - 3h           5.0           6.0                   6.0   \n",
      "3     3h - 4h           7.0           8.0                   7.0   \n",
      "4     4h - 5h           9.0           1.0                   8.0   \n",
      "5     5h - 6h           2.0           3.0                   8.0   \n",
      "6     6h - 7h           4.0           5.0                   7.0   \n",
      "7     7h - 8h           6.0           7.0                   6.0   \n",
      "8     8h - 9h           8.0           9.0                   7.0   \n",
      "9    9h - 10h           1.0           2.0                   8.0   \n",
      "10  10h - 11h           3.0           4.0                   7.0   \n",
      "11  11h - 12h           5.0           6.0                   6.0   \n",
      "12  12h - 13h           7.0           8.0                   7.0   \n",
      "13  13h - 14h           9.0           1.0                   8.0   \n",
      "14  14h - 15h           2.0           3.0                   8.0   \n",
      "15  15h - 16h           4.0           5.0                   7.0   \n",
      "16  16h - 17h           6.0           7.0                   6.0   \n",
      "17  17h - 18h           8.0           9.0                   8.0   \n",
      "18  18h - 19h           1.0           2.0                   9.0   \n",
      "19  19h - 20h           3.0           4.0                   8.0   \n",
      "20  20h - 21h           5.0           6.0                   7.0   \n",
      "21  21h - 22h           7.0           8.0                   7.0   \n",
      "22  22h - 23h           9.0           1.0                   8.0   \n",
      "23   23h - 24           2.0           3.0                   8.0   \n",
      "\n",
      "    Temps sejour weekend  \n",
      "0                    8.0  \n",
      "1                    7.0  \n",
      "2                    6.0  \n",
      "3                    7.0  \n",
      "4                    8.0  \n",
      "5                    7.0  \n",
      "6                    6.0  \n",
      "7                    7.0  \n",
      "8                    8.0  \n",
      "9                    8.0  \n",
      "10                   7.0  \n",
      "11                   6.0  \n",
      "12                   7.0  \n",
      "13                   8.0  \n",
      "14                   7.0  \n",
      "15                   6.0  \n",
      "16                   7.0  \n",
      "17                   8.0  \n",
      "18                   9.0  \n",
      "19                   8.0  \n",
      "20                   8.0  \n",
      "21                   9.0  \n",
      "22                   9.0  \n",
      "23                   8.0  \n"
     ]
    }
   ],
   "source": [
    "result_table = calcul_temps_sejour.table_synthese(table_df, temps_sejour_semaine, temps_sejour_weekend)\n",
    "print(result_table)\n"
   ]
  },
  {
   "cell_type": "markdown",
   "id": "54658ef1-a3f6-4ab4-b8e0-e922b632d014",
   "metadata": {},
   "source": [
    "### Analyse des hydrogrammes moyens de temps sec ### "
   ]
  },
  {
   "cell_type": "code",
   "execution_count": 11,
   "id": "3687ab4b-0cb0-4396-8047-2e5035d3712f",
   "metadata": {},
   "outputs": [
    {
     "name": "stdin",
     "output_type": "stream",
     "text": [
      "Entrer 'semaine' pour l'hydrogramme en semaine ou 'weekend' pour l'hydrogramme en weekend:  semaine\n"
     ]
    },
    {
     "data": {
      "image/png": "[encoded data removed]",
      "text/plain": [
       "<Figure size 640x480 with 2 Axes>"
      ]
     },
     "metadata": {},
     "output_type": "display_data"
    }
   ],
   "source": [
    "data_type = input(\"Entrer 'semaine' pour l'hydrogramme en semaine ou 'weekend' pour l'hydrogramme en weekend: \")\n",
    "\n",
    "if data_type == 'semaine':\n",
    "    calcul_temps_sejour.plot_data(result_table, calcul_temps_sejour.seuil_tempssej, data_type)\n",
    "elif data_type == 'weekend':\n",
    "    calcul_temps_sejour.plot_data(result_table, calcul_temps_sejour.seuil_tempssej, data_type)\n",
    "else:\n",
    "    print(\"Invalid input. Please enter 'semaine' or 'weekend'.\")"
   ]
  },
  {
   "cell_type": "markdown",
   "id": "407b60bc-3ee4-47b2-b09c-b22f62e921aa",
   "metadata": {},
   "source": [
    "### Calcul du nombre de chasses ###"
   ]
  },
  {
   "cell_type": "code",
   "execution_count": 12,
   "id": "07a5b6d2-f0c7-4bf9-91e5-625437cfbefa",
   "metadata": {},
   "outputs": [
    {
     "name": "stdout",
     "output_type": "stream",
     "text": [
      "Nombre de chasses par jour pour la semaine: 3.009475287555839\n",
      "Nombre de chasses par jour pour le weekend: 2.9323092545415865\n"
     ]
    }
   ],
   "source": [
    "chasses_semaine, chasses_weekend = calcul_temps_sejour.chasses_par_jour(table_df, volume)\n",
    "print(\"Nombre de chasses par jour pour la semaine:\", chasses_semaine)\n",
    "print(\"Nombre de chasses par jour pour le weekend:\", chasses_weekend)"
   ]
  },
  {
   "cell_type": "markdown",
   "id": "625f40cb-0ac2-4f90-bef1-ce3ca3cfa998",
   "metadata": {},
   "source": [
    "## Extrapolation ##"
   ]
  },
  {
   "cell_type": "markdown",
   "id": "e287dbd0-78be-4cdb-8699-31e6404d7d69",
   "metadata": {},
   "source": [
    "### Calcul des débits cumulés par tranches horaires ###"
   ]
  },
  {
   "cell_type": "code",
   "execution_count": 16,
   "id": "c595cca0-599c-4576-a41c-8353b6c9a4e0",
   "metadata": {},
   "outputs": [],
   "source": [
    "extrap_table_df = calcul_temps_sejour.creer_extrap_table(table_df, -70, 15)\n",
    "debit_extrap_semaine = calcul_temps_sejour.calcul_cumul_debits(extrap_table_df, 'Semaine m3/s')\n",
    "debit_extrap_weekend = calcul_temps_sejour.calcul_cumul_debits(extrap_table_df, 'Weekend m3/s')"
   ]
  },
  {
   "cell_type": "markdown",
   "id": "4204480a-3f7a-48f8-af6a-8deca383bbdf",
   "metadata": {},
   "source": [
    "### Calcul du temps de séjour en fonction des horaires  ###"
   ]
  },
  {
   "cell_type": "code",
   "execution_count": 18,
   "id": "49dfa660-f189-44b9-8269-1b62372983b6",
   "metadata": {},
   "outputs": [],
   "source": [
    "tempssej_extrap_semaine = calcul_temps_sejour.table_temps_sejour(debit_extrap_semaine, volume)\n",
    "tempssej_extrap_weekend = calcul_temps_sejour.table_temps_sejour(debit_extrap_weekend, volume)"
   ]
  },
  {
   "cell_type": "markdown",
   "id": "fa80354c-4e07-4926-8022-4eafa4dec20c",
   "metadata": {},
   "source": [
    "### Tableau de synthèse des temps de séjour ###"
   ]
  },
  {
   "cell_type": "code",
   "execution_count": null,
   "id": "97414243-bd21-44bd-a184-db611b1249ac",
   "metadata": {},
   "outputs": [],
   "source": [
    "extrapolated_result = calcul_temps_sejour.table_synthese(extrap_table_df, tempssej_extrap_semaine, tempssej_extrap_weekend)"
   ]
  },
  {
   "cell_type": "markdown",
   "id": "99108a18-d090-4446-b5d1-2c25058642f7",
   "metadata": {},
   "source": [
    "### Analyse des hydrogrammes moyens de temps sec ### "
   ]
  },
  {
   "cell_type": "code",
   "execution_count": null,
   "id": "b03ef698-cd0d-4f52-8e51-00813f190f8e",
   "metadata": {},
   "outputs": [],
   "source": [
    "data_type = input(\"Enter 'semaine' to plot data for semaine or 'weekend' to plot data for weekend: \")\n",
    "\n",
    "if data_type == 'semaine':\n",
    "    calcul_temps_sejour.plot_data(extrapolated_result, calcul_temps_sejour.seuil_tempssej, data_type)\n",
    "elif data_type == 'weekend':\n",
    "    calcul_temps_sejour.plot_data(extrapolated_result, calcul_temps_sejour.seuil_tempssej, data_type)\n",
    "else:\n",
    "    print(\"Invalid input. Please enter 'semaine' or 'weekend'.\")"
   ]
  },
  {
   "cell_type": "markdown",
   "id": "f74e4e44-cd91-485a-818b-4296304f9875",
   "metadata": {},
   "source": [
    "### Calcul du nombre de chasses ###"
   ]
  },
  {
   "cell_type": "code",
   "execution_count": null,
   "id": "7073a599-cd09-4cc5-ab56-f2e59d650efb",
   "metadata": {},
   "outputs": [],
   "source": [
    "chasses_extrap_semaine, chasses_extrap_weekend = calcul_temps_sejour.chasses_par_jour(extrap_table_df, volume)\n",
    "print(\"Nombre de chasses par jour pour la semaine:\", chasses_extrap_semaine)\n",
    "print(\"Nombre de chasses par jour pour le weekend:\", chasses_extrap_weekend)"
   ]
  }
 ],
 "metadata": {
  "kernelspec": {
   "display_name": "Python 3 (ipykernel)",
   "language": "python",
   "name": "python3"
  },
  "language_info": {
   "codemirror_mode": {
    "name": "ipython",
    "version": 3
   },
   "file_extension": ".py",
   "mimetype": "text/x-python",
   "name": "python",
   "nbconvert_exporter": "python",
   "pygments_lexer": "ipython3",
   "version": "3.11.7"
  }
 },
 "nbformat": 4,
 "nbformat_minor": 5
}

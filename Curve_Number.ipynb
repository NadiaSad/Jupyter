{
 "cells": [
  {
   "cell_type": "markdown",
   "id": "b9662582-32ea-4eff-bdbf-cc6f689a5f92",
   "metadata": {},
   "source": [
    "# Estimation du Curve Number #"
   ]
  },
  {
   "cell_type": "markdown",
   "id": "d8354854-bb49-49a5-bcdf-0a32dc90f738",
   "metadata": {},
   "source": [
    "## Import des bibliothèques ##"
   ]
  },
  {
   "cell_type": "code",
   "execution_count": 1,
   "id": "cf9b9507-5381-485a-b98b-1d16194cdb38",
   "metadata": {},
   "outputs": [],
   "source": [
    "from prettytable import PrettyTable"
   ]
  },
  {
   "cell_type": "markdown",
   "id": "88d92260-188c-4c96-b65c-4b7e35355e25",
   "metadata": {},
   "source": [
    "## Définition des fonctions ##"
   ]
  },
  {
   "cell_type": "code",
   "execution_count": 2,
   "id": "d681d5f8-7038-4f02-bc45-5fb3853c5281",
   "metadata": {},
   "outputs": [],
   "source": [
    "class DataAnalyzer:\n",
    "    def __init__(self, rows):\n",
    "        self.rows = rows\n",
    "        \n",
    "        # Tableau pour le groupe de sol\n",
    "        table_sol = PrettyTable()\n",
    "        table_sol.field_names = [\"Groupe de sol\", \"Définition\"]\n",
    "        table_sol.add_row([\"Groupe A\", \"Sols perméables : Sables profonds, Limons agrégés\"])\n",
    "        table_sol.add_row([\"Groupe B\", \"Sols moyennement perméables : Sols sableux moins profonds, moyennement chargés en loess et argiles\"])\n",
    "        table_sol.add_row([\"Groupe C\", \"Sols peu perméables : Sols peu profonds à prépondérance argileuse\"])\n",
    "        table_sol.add_row([\"Groupe D\", \"Sols très peu perméables : Sols très argileux\"])\n",
    "\n",
    "        # Afficher le tableau du groupe de sol\n",
    "        print(\"Tableau des Groupes de sol \")\n",
    "        print(table_sol)\n",
    "\n",
    "        # Tableau pour la classe d'humidité\n",
    "        table_humidite = PrettyTable()\n",
    "        table_humidite.field_names = [\"Classe d'humidité\", \"Définition\", \"Végétation inactive\", \"Période de croissance\"]\n",
    "        table_humidite.add_row([\"Type 1\", \"Etat sec\", \"X < 13\", \"X < 36\"])\n",
    "        table_humidite.add_row([\"Type 2\", \"Etat humide\", \"13 < X < 28\", \"36 < X < 53\"])\n",
    "        table_humidite.add_row([\"Type 3\", \"Etat saturé\", \"X > 28\", \"X > 53\"])\n",
    "\n",
    "        # Afficher le tableau de la classe d'humidité\n",
    "        print(\"\\nTableau des Classes d'humidité \")\n",
    "        print(table_humidite)\n",
    "        print(\" X: Cumul de pluie sur 5 jours en mm\")\n",
    "\n",
    "        table_chow = PrettyTable()\n",
    "        table_chow.field_names = [\"Type de surface\", \"Groupe A\", \"Groupe B\", \"Groupe C\", \"Groupe D\"]\n",
    "        table_chow.max_width[\"Type de surface\"] = 20\n",
    "        table_chow.max_width[\"Groupe A\"] = 15\n",
    "        table_chow.max_width[\"Groupe B\"] = 10\n",
    "        table_chow.max_width[\"Groupe C\"] = 10\n",
    "        table_chow.max_width[\"Groupe D\"] = 10\n",
    "        for row in self.rows:\n",
    "            table_chow.add_row(row)\n",
    "\n",
    "        # Afficher la table\n",
    "        print(\"\\nCurve Number initiaux de type 2 pris en compte dans le calcul (Hypothèse sécurisante)\")\n",
    "        print(table_chow)\n",
    "\n",
    "class BasinInfo:\n",
    "    def __init__(self):\n",
    "        self.surface_types = [\"Terres cultivées (ha)\", \"Paturage (ha)\", \"Prairie (ha)\",\n",
    "                              \"Forêt (ha)\", \"Zone industrielle (ha)\", \"Zone résidentielle (ha)\",\"Parking et routes (ha)\"]\n",
    "\n",
    "    def create_table(self):\n",
    "        num_basins = int(input(\"Entrer le nombre des bassins : \"))\n",
    "        if num_basins <= 0:\n",
    "            print(\"Nombre de bassins invalide. Veuillez entrer un entier positif.\")\n",
    "            return\n",
    "\n",
    "        basin_info = []\n",
    "        for i in range(num_basins):\n",
    "            name = input(f\"Le nom du bassin versant {i+1}: \")\n",
    "            if not name:\n",
    "                print(\"Veuillez renseigner les noms de vos bassins versants\")\n",
    "                return\n",
    "            type_du_sol = input(f\"La nature du sol du bassin '{name}' : \")\n",
    "            if not type_du_sol:\n",
    "                print(\"Veuillez renseigner la nature du sol de vos bassins versants\")\n",
    "                return\n",
    "            surface_values = []\n",
    "            for surface in self.surface_types:\n",
    "                value = input(f\"Surface {surface} du basin '{name}': \")\n",
    "                surface_values.append(value)\n",
    "            basin_info.append([name, type_du_sol] + surface_values)\n",
    "\n",
    "        table_entrants = PrettyTable()\n",
    "        table_entrants.field_names = [\"Nom du basin versant\", \"Pente\"] + self.surface_types\n",
    "        table_entrants.max_width[\"Nom du basin versant\"] = 20\n",
    "        table_entrants.max_width[\"Pente\"] = 10\n",
    "        table_entrants.max_width[\"Terres cultivées (ha)\"] = 10\n",
    "        table_entrants.max_width[\"Paturage (ha)\"] = 10\n",
    "        table_entrants.max_width[\"Prairie (ha)\"] = 10\n",
    "        table_entrants.max_width[\"Forêt (ha)\"] = 10\n",
    "        table_entrants.max_width[\"Zone industrielle (ha)\"] = 10\n",
    "        table_entrants.max_width[\"Zone résidentielle (ha)\"] = 10\n",
    "        table_entrants.max_width[\"Parking et routes (ha)\"] = 10\n",
    "        for basin in basin_info:\n",
    "            table_entrants.add_row(basin)\n",
    "        print(table_entrants)\n",
    "        return basin_info\n",
    "\n",
    "    def calculer_curve_number(self, basin_info):\n",
    "        coefficients = {}\n",
    "        for info in basin_info:\n",
    "            type_du_sol = info[1]\n",
    "            surface_total = sum(map(float, info[2:]))\n",
    "\n",
    "            \n",
    "            # Calculate CN for each type\n",
    "            terre_cultivee = float(info[2])\n",
    "            paturage = float(info[3])\n",
    "            prairie = float(info[4])\n",
    "            foret = float(info[5])\n",
    "            zone_industrielle = float(info[6])\n",
    "            zone_residentielle = float(info[7])\n",
    "            parking_routes = float(info[8])\n",
    "\n",
    "            # CN for Groupe A\n",
    "            if type_du_sol == \"Groupe A\":\n",
    "                CN2 = round((terre_cultivee * float(rows[0][1]) + paturage * float(rows[1][1]) + prairie * float(rows[2][1]) + foret * float(rows[3][1]) +\n",
    "                                zone_industrielle * float(rows[4][1]) + zone_residentielle * float(rows[5][1]) + parking_routes * float(rows[6][1]) ) / surface_total, 1)\n",
    "            # CN for Groupe B\n",
    "            elif type_du_sol == \"Groupe B\":\n",
    "                CN2 = round((terre_cultivee * float(rows[0][2]) + paturage * float(rows[1][2]) + prairie * float(rows[2][2]) + foret * float(rows[3][2]) +\n",
    "                                zone_industrielle * float(rows[4][2]) + zone_residentielle * float(rows[5][2]) + parking_routes * float(rows[6][2]) ) / surface_total, 1)\n",
    "            # CN for Groupe C\n",
    "            elif type_du_sol == \"Groupe C\":\n",
    "                CN2 = round((terre_cultivee * float(rows[0][3]) + paturage * float(rows[1][3]) + prairie * float(rows[2][3]) + foret * float(rows[3][3]) +\n",
    "                                zone_industrielle * float(rows[4][3]) + zone_residentielle * float(rows[5][3]) + parking_routes * float(rows[6][3]) ) / surface_total, 1)\n",
    "            # CN for Groupe D\n",
    "            elif type_du_sol == \"Groupe D\":\n",
    "                CN2 = round((terre_cultivee * float(rows[0][4]) + paturage * float(rows[1][4]) + prairie * float(rows[2][4]) + foret * float(rows[3][4]) +\n",
    "                                zone_industrielle * float(rows[4][4]) + zone_residentielle * float(rows[5][4]) + parking_routes * float(rows[6][4]) ) / surface_total, 1)\n",
    "\n",
    "            # Adjust CN for type 1 and type 3\n",
    "            CN1 = round((4.2 * CN2) / (10 - 0.058 * CN2), 1)  # Type 1\n",
    "            CN3 = round((23 * CN2) / (10 + 0.13 * CN2), 1)  # Type 3\n",
    "\n",
    "            coefficients[info[0]] = [CN1, CN2, CN3]\n",
    "\n",
    "        return coefficients\n",
    "        \n",
    "\n",
    "class TableCreator:\n",
    "    def __init__(self, basin_info, coefficients):\n",
    "        self.basin_info = basin_info\n",
    "        self.coefficients = coefficients\n",
    "\n",
    "    def create_table(self):\n",
    "        table = PrettyTable()\n",
    "        table.field_names = ['Nom du bassin versant', 'Nature du sol', 'Surface totale (ha)', 'Surface imperméabilisée (ha)', \n",
    "                             'Surface naturelle (ha)', 'CN Type 1', 'CN Type 2', 'CN Type 3']\n",
    "\n",
    "        for info in self.basin_info:\n",
    "            name = info[0]\n",
    "            type_du_sol = info[1]\n",
    "            surface_values = list(map(float, info[2:]))\n",
    "            surface_total = sum(surface_values)\n",
    "            surface_impermeabilisee = sum(surface_values[-3:])\n",
    "            surface_naturelle = sum(surface_values[:-3])\n",
    "\n",
    "            CN = self.coefficients[name]\n",
    "            CN_type_1 = CN[0]\n",
    "            CN_type_2 = CN[1]\n",
    "            CN_type_3 = CN[2]\n",
    "\n",
    "            table.add_row([name, type_du_sol, surface_total, surface_impermeabilisee, surface_naturelle, CN_type_1, CN_type_2, CN_type_3])\n",
    "\n",
    "        return table\n"
   ]
  },
  {
   "attachments": {},
   "cell_type": "markdown",
   "id": "22bf31ae-e0fd-4446-ab68-adb6b168cc40",
   "metadata": {},
   "source": [
    "## Table Ven Te chow - Aide ##"
   ]
  },
  {
   "cell_type": "code",
   "execution_count": 3,
   "id": "ab2104a7-9b72-4505-b35c-0badd4e8b955",
   "metadata": {},
   "outputs": [
    {
     "name": "stdout",
     "output_type": "stream",
     "text": [
      "Tableau des Groupes de sol \n",
      "+---------------+----------------------------------------------------------------------------------------------------+\n",
      "| Groupe de sol |                                             Définition                                             |\n",
      "+---------------+----------------------------------------------------------------------------------------------------+\n",
      "|    Groupe A   |                         Sols perméables : Sables profonds, Limons agrégés                          |\n",
      "|    Groupe B   | Sols moyennement perméables : Sols sableux moins profonds, moyennement chargés en loess et argiles |\n",
      "|    Groupe C   |                 Sols peu perméables : Sols peu profonds à prépondérance argileuse                  |\n",
      "|    Groupe D   |                           Sols très peu perméables : Sols très argileux                            |\n",
      "+---------------+----------------------------------------------------------------------------------------------------+\n",
      "\n",
      "Tableau des Classes d'humidité \n",
      "+-------------------+-------------+---------------------+-----------------------+\n",
      "| Classe d'humidité |  Définition | Végétation inactive | Période de croissance |\n",
      "+-------------------+-------------+---------------------+-----------------------+\n",
      "|       Type 1      |   Etat sec  |        X < 13       |         X < 36        |\n",
      "|       Type 2      | Etat humide |     13 < X < 28     |      36 < X < 53      |\n",
      "|       Type 3      | Etat saturé |        X > 28       |         X > 53        |\n",
      "+-------------------+-------------+---------------------+-----------------------+\n",
      " X: Cumul de pluie sur 5 jours en mm\n",
      "\n",
      "Curve Number initiaux de type 2 pris en compte dans le calcul (Hypothèse sécurisante)\n",
      "+--------------------+----------+----------+----------+----------+\n",
      "|  Type de surface   | Groupe A | Groupe B | Groupe C | Groupe D |\n",
      "+--------------------+----------+----------+----------+----------+\n",
      "|  Terres cultivées  |    72    |    81    |    88    |    91    |\n",
      "|      Paturage      |    68    |    79    |    86    |    89    |\n",
      "|      Prairie       |    30    |    58    |    71    |    78    |\n",
      "|       Foret        |    25    |    55    |    70    |    77    |\n",
      "| Zone industrielle  |    81    |    88    |    91    |    93    |\n",
      "| Zone résidentielle |    77    |    85    |    90    |    92    |\n",
      "| Parking et routes  |    98    |    98    |    98    |    98    |\n",
      "+--------------------+----------+----------+----------+----------+\n"
     ]
    }
   ],
   "source": [
    "rows = [\n",
    "    [\"Terres cultivées\", \"72\", \"81\", \"88\", \"91\"],\n",
    "    [\"Paturage\", \"68\", \"79\", \"86\", \"89\"],\n",
    "    [\"Prairie\", \"30\", \"58\", \"71\", \"78\"],\n",
    "    [\"Foret\", \"25\", \"55\", \"70\", \"77\"],\n",
    "    [\"Zone industrielle\",\"81\", \"88\", \"91\", \"93\" ],\n",
    "    [\"Zone résidentielle\",\"77\", \"85\", \"90\", \"92\"],\n",
    "    [\"Parking et routes\",\"98\", \"98\", \"98\", \"98\"],\n",
    "]\n",
    "\n",
    "# Initialize and run the processes\n",
    "data_analyzer = DataAnalyzer(rows)"
   ]
  },
  {
   "cell_type": "markdown",
   "id": "784d0c5e-c284-4fe4-af90-c6b452753020",
   "metadata": {},
   "source": [
    "## Entrants ##"
   ]
  },
  {
   "cell_type": "code",
   "execution_count": 4,
   "id": "59b0f42c-2602-4c83-934d-d89afeab0ae3",
   "metadata": {},
   "outputs": [
    {
     "name": "stdin",
     "output_type": "stream",
     "text": [
      "Entrer le nombre des bassins :  2\n",
      "Le nom du bassin versant 1:  a\n",
      "La nature du sol du bassin 'a' :  Groupe A\n",
      "Surface Terres cultivées (ha) du basin 'a':  10\n",
      "Surface Paturage (ha) du basin 'a':  10\n",
      "Surface Prairie (ha) du basin 'a':  10\n",
      "Surface Forêt (ha) du basin 'a':  10\n",
      "Surface Zone industrielle (ha) du basin 'a':  10\n",
      "Surface Zone résidentielle (ha) du basin 'a':  10\n",
      "Surface Parking et routes (ha) du basin 'a':  10\n",
      "Le nom du bassin versant 2:  b\n",
      "La nature du sol du bassin 'b' :  Groupe B\n",
      "Surface Terres cultivées (ha) du basin 'b':  10\n",
      "Surface Paturage (ha) du basin 'b':  10\n",
      "Surface Prairie (ha) du basin 'b':  10\n",
      "Surface Forêt (ha) du basin 'b':  10\n",
      "Surface Zone industrielle (ha) du basin 'b':  10\n",
      "Surface Zone résidentielle (ha) du basin 'b':  10\n",
      "Surface Parking et routes (ha) du basin 'b':  10\n"
     ]
    },
    {
     "name": "stdout",
     "output_type": "stream",
     "text": [
      "+----------------------+----------+-----------------------+---------------+--------------+------------+------------------------+-------------------------+------------------------+\n",
      "| Nom du basin versant |  Pente   | Terres cultivées (ha) | Paturage (ha) | Prairie (ha) | Forêt (ha) | Zone industrielle (ha) | Zone résidentielle (ha) | Parking et routes (ha) |\n",
      "+----------------------+----------+-----------------------+---------------+--------------+------------+------------------------+-------------------------+------------------------+\n",
      "|          a           | Groupe A |           10          |       10      |      10      |     10     |           10           |            10           |           10           |\n",
      "|          b           | Groupe B |           10          |       10      |      10      |     10     |           10           |            10           |           10           |\n",
      "+----------------------+----------+-----------------------+---------------+--------------+------------+------------------------+-------------------------+------------------------+\n"
     ]
    }
   ],
   "source": [
    "basin_info_obj = BasinInfo()\n",
    "basin_info = basin_info_obj.create_table()"
   ]
  },
  {
   "cell_type": "markdown",
   "id": "52e401c0-4288-46e9-8608-b4dd50d202f9",
   "metadata": {},
   "source": [
    "## Estimation des curve numbers ##"
   ]
  },
  {
   "cell_type": "code",
   "execution_count": 5,
   "id": "da9aa461-1d63-4f45-a0d0-a34d4cf4abbf",
   "metadata": {},
   "outputs": [
    {
     "name": "stdout",
     "output_type": "stream",
     "text": [
      "+-----------------------+---------------+---------------------+------------------------------+------------------------+-----------+-----------+-----------+\n",
      "| Nom du bassin versant | Nature du sol | Surface totale (ha) | Surface imperméabilisée (ha) | Surface naturelle (ha) | CN Type 1 | CN Type 2 | CN Type 3 |\n",
      "+-----------------------+---------------+---------------------+------------------------------+------------------------+-----------+-----------+-----------+\n",
      "|           a           |    Groupe A   |         70.0        |             30.0             |          40.0          |    43.2   |    64.4   |    80.6   |\n",
      "|           b           |    Groupe B   |         70.0        |             30.0             |          40.0          |    59.4   |    77.7   |    88.9   |\n",
      "+-----------------------+---------------+---------------------+------------------------------+------------------------+-----------+-----------+-----------+\n"
     ]
    }
   ],
   "source": [
    "coefficients = basin_info_obj.calculer_curve_number(basin_info)\n",
    "table_creator = TableCreator(basin_info, coefficients)\n",
    "table = table_creator.create_table()\n",
    "print(table)"
   ]
  }
 ],
 "metadata": {
  "kernelspec": {
   "display_name": "Python 3 (ipykernel)",
   "language": "python",
   "name": "python3"
  },
  "language_info": {
   "codemirror_mode": {
    "name": "ipython",
    "version": 3
   },
   "file_extension": ".py",
   "mimetype": "text/x-python",
   "name": "python",
   "nbconvert_exporter": "python",
   "pygments_lexer": "ipython3",
   "version": "3.11.7"
  }
 },
 "nbformat": 4,
 "nbformat_minor": 5
}
